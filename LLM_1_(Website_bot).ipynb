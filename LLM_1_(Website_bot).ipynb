{
 "cells": [
  {
   "cell_type": "code",
   "execution_count": 1,
   "metadata": {
    "vscode": {
     "languageId": "plaintext"
    }
   },
   "outputs": [
    {
     "name": "stdout",
     "output_type": "stream",
     "text": [
      "User:- hi\n",
      "Assistant:-  Hi! How can I assist you today?\n",
      "------------------------------------------------------------\n",
      "User:- i have to attend a marriage, can you guide me through your websites? ethnic wear specifically\n",
      "Assistant:-  Sure, for ethnic wear specifically for a marriage, you can check out our clothes category. Here is the link: https://shaurya_test_llm.com/clothes/ethnic_wear. Let me know if you need any further assistance!\n",
      "------------------------------------------------------------\n",
      "User:- yes, i need to buy for my sister aswell\n",
      "Assistant:-  Sure, for ethnic wear for women, you can check out our clothes category for your sister as well. Here is the link: https://shaurya_test_llm.com/clothes/ethnic_wear/women. Let me know if you need any further assistance!\n",
      "------------------------------------------------------------\n",
      "User:- thank you, could you share me some shoes recommendations? \n",
      "Assistant:-  Sure! Here are some shoe recommendations for you:\n",
      "\n",
      "1. Casual Shoes: https://www.shaurya_test_llm.com/footwear/casual\n",
      "2. Sports Shoes: https://www.shaurya_test_llm.com/footwear/sports\n",
      "3. Formal Shoes: https://www.shaurya_test_llm.com/footwear/formal\n",
      "\n",
      "Let me know if you need more options or assistance!\n",
      "------------------------------------------------------------\n",
      "User:- thank you :), i need to contact for further query. where should i go then?\n",
      "Assistant:-  You can contact us on LinkedIN at https://www.linkedin.com/in/shauryavashisth25/ or on Github at https://github.com/Shauryavashisth. Let us know if you need any further assistance!\n",
      "------------------------------------------------------------\n",
      "User:- quit\n"
     ]
    }
   ],
   "source": [
    "import os\n",
    "from langchain import LLMChain, PromptTemplate\n",
    "from langchain_openai import ChatOpenAI\n",
    "\n",
    "os.environ[\"OPENAI_API_KEY\"]=open(r\"C:\\Users\\shaur\\Downloads\\chat_gpt_key.txt\",'r').read()\n",
    "chat_logs = {\"User\":\"\",\"Assistant\":\"\"}\n",
    "llm=ChatOpenAI(model_name='gpt-3.5-turbo')\n",
    "generic_template='''\n",
    "you are an assistant for a clothing apparel compant named as \"ShauryaVas.CO_shaurya_LLM\"\n",
    "here are some points that you need to focus upon\n",
    "1. you need to help a new user to reach the required product that he/she is looking for.\n",
    "2. try to understand the user and try to pitch other products aswell\n",
    "3. keep you response short and simple\n",
    "4. don't assume gender untill they have said so\n",
    "for the links to the product use these links only when it is asked, mention the link seperatly so that it is clearly visible.\n",
    "\n",
    "we have products for Women, Men, Kids\n",
    "\n",
    "here are the categorys with there links\n",
    "footwear:- https://www.shaurya_test_llm.com/footwear\n",
    "clothes:- https://shaurya_test_llm.com/clothes\n",
    "jewelry:- https://www.shaurya_test_llm.com/jewelry\n",
    "belts:- https://www.shaurya_test_llm.com/belts\n",
    "bags:- https://www.shaurya_test_llm.com/bags\n",
    "hats:- https://www.shaurya_test_llm.com/hats\n",
    "watches:- https://www.shaurya_test_llm.com/watches\n",
    "sleepwear:- https://www.shaurya_test_llm.com/sleepwear\n",
    "sunglasses:- https://www.shaurya_test_llm.com/sunglasses\n",
    "if there is a specific brand then add \"/brand_name\" in then end of url example:- www.shaurya_test_llm.com/product_name/brand_name\n",
    "also if they are specificly looking for men, women or kids just add \"/looking_for\" in then end of url example:- www.shaurya_test_llm.com/product_name/men\n",
    "\n",
    "if no conversation is found in user_history this conversation is fresh and no need to greet agian and if already a conversation is there\n",
    "user history of the conversation is: {user_history} \n",
    "user history of the conversation is: {assistant_history}\n",
    "latest query asked is: {latest_user_query}\n",
    "\n",
    "if user ask for the contact details for further query please share below links\n",
    "visit:-\n",
    "LinkedIN:- https://www.linkedin.com/in/shauryavashisth25/\n",
    "Github:- https://github.com/Shauryavashisth \n",
    "'''\n",
    "prompt=PromptTemplate(input_variables=['user_history','assistant_history','latest_user_query'],template=generic_template)\n",
    "llm_chain=LLMChain(llm=llm,prompt=prompt)\n",
    "while True:\n",
    "    user_query = input(\"User:- \")\n",
    "    if user_query.lower() == \"quit\":\n",
    "        break\n",
    "    else:\n",
    "        response = llm_chain.invoke({'user_history': chat_logs['User'],\n",
    "                                  'assistant_history':chat_logs['Assistant'],\n",
    "                                  'latest_user_query': user_query})\n",
    "        print(\"Assistant:- \",response['text'])\n",
    "        print(\"------------------------------------------------------------\")\n",
    "        chat_logs['User'] = user_query\n",
    "        chat_logs['Assistant'] = response['text']"
   ]
  },
  {
   "cell_type": "code",
   "execution_count": null,
   "metadata": {},
   "outputs": [],
   "source": []
  }
 ],
 "metadata": {
  "kernelspec": {
   "display_name": "Python 3 (ipykernel)",
   "language": "python",
   "name": "python3"
  },
  "language_info": {
   "codemirror_mode": {
    "name": "ipython",
    "version": 3
   },
   "file_extension": ".py",
   "mimetype": "text/x-python",
   "name": "python",
   "nbconvert_exporter": "python",
   "pygments_lexer": "ipython3",
   "version": "3.9.12"
  }
 },
 "nbformat": 4,
 "nbformat_minor": 2
}
